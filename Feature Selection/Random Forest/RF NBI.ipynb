{
 "cells": [
  {
   "cell_type": "markdown",
   "metadata": {},
   "source": [
    "# <span style='font-family:\"Times New Roman\"'> <span styel=''> This code will extract important features using Random Forest technique from National Bridge Inventory (NBI) dataset."
   ]
  },
  {
   "cell_type": "markdown",
   "metadata": {},
   "source": [
    "## <span style='font-family:\"Times New Roman\"'> <span styel=''>Loading required modules: "
   ]
  },
  {
   "cell_type": "code",
   "execution_count": 1,
   "metadata": {},
   "outputs": [],
   "source": [
    "from sklearn.feature_selection import SelectFromModel\n",
    "from sklearn.model_selection import train_test_split\n",
    "from sklearn.ensemble import RandomForestClassifier\n",
    "from sklearn import preprocessing\n",
    "import matplotlib.pyplot as plt\n",
    "import pandas as pd\n",
    "import numpy as np"
   ]
  },
  {
   "cell_type": "markdown",
   "metadata": {},
   "source": [
    "## <span style='font-family:\"Times New Roman\"'> <span styel=''>Turning off the warning about copying dataframe: "
   ]
  },
  {
   "cell_type": "code",
   "execution_count": 2,
   "metadata": {},
   "outputs": [],
   "source": [
    "pd.options.mode.chained_assignment = None  # default='warn'"
   ]
  },
  {
   "cell_type": "markdown",
   "metadata": {},
   "source": [
    "## <span style='font-family:\"Times New Roman\"'> <span styel=''>Reading NBI dataset and dropping culverts since we are interested in bridges: "
   ]
  },
  {
   "cell_type": "code",
   "execution_count": 3,
   "metadata": {},
   "outputs": [],
   "source": [
    "#Reading the dataset \n",
    "nbi = pd.read_csv('NBI 2019.txt', sep=',', engine='python').drop([0])\n",
    "#Dropping Culverts  \n",
    "nbi = nbi[nbi[\"CULVERT_COND_062\"] == \"N\"].reset_index()"
   ]
  },
  {
   "cell_type": "markdown",
   "metadata": {},
   "source": [
    "## <span style='font-family:\"Times New Roman\"'> <span styel=''>Setting `y` matrix to be target values we are interested: Deck condition, Superstructure condition, and Substructure condition: "
   ]
  },
  {
   "cell_type": "code",
   "execution_count": 4,
   "metadata": {},
   "outputs": [],
   "source": [
    "y = nbi[[\"DECK_COND_058\",\"SUPERSTRUCTURE_COND_059\",\"SUBSTRUCTURE_COND_060\"]]"
   ]
  },
  {
   "cell_type": "markdown",
   "metadata": {},
   "source": [
    "## <span style='font-family:\"Times New Roman\"'> <span styel=''>Setting up training matrix `x` and dropping features from dataset that are not necessary. This step is solely based on my Civil Engineering background: "
   ]
  },
  {
   "cell_type": "code",
   "execution_count": 5,
   "metadata": {},
   "outputs": [],
   "source": [
    "ini_df = nbi.drop([\"ROUTE_NUMBER_005D\",\"DIRECTION_005E\",\"STRUCTURE_NUMBER_008\",\\\n",
    "              \"STATE_CODE_001\",\"DECK_COND_058\",\\\n",
    "              \"SUPERSTRUCTURE_COND_059\",\"SUBSTRUCTURE_COND_060\",\\\n",
    "             \"HIGHWAY_DISTRICT_002\", \"COUNTY_CODE_003\",\"FEATURES_DESC_006A\",\\\n",
    "             \"PLACE_CODE_004\",\"CRITICAL_FACILITY_006B\",\"FACILITY_CARRIED_007\",\"LOCATION_009\",\\\n",
    "             \"LRS_INV_ROUTE_013A\",\"SUBROUTE_NO_013B\",\\\n",
    "             \"LAT_016\",\"LONG_017\",\"YEAR_ADT_030\",\"RAILINGS_036A\",\\\n",
    "             \"TRANSITIONS_036B\",\"APPR_RAIL_036C\",\"APPR_RAIL_END_036D\",\"HISTORY_037\",\\\n",
    "             \"NAVIGATION_038\", \"NAV_VERT_CLR_MT_039\",\"NAV_HORR_CLR_MT_040\",\\\n",
    "              \"OPEN_CLOSED_POSTED_041\", \"LAT_UND_REF_055A\", \"LAT_UND_MT_055B\",\"CHANNEL_COND_061\",\\\n",
    "             \"CULVERT_COND_062\", \"BRIDGE_IMP_COST_094\",\"ROADWAY_IMP_COST_095\",\\\n",
    "              \"TOTAL_IMP_COST_096\", \"YEAR_OF_IMP_097\",\"OTHER_STATE_CODE_098A\",\\\n",
    "             \"OTHER_STATE_PCNT_098B\",\"OTHR_STATE_STRUC_NO_099\",\"STRAHNET_HIGHWAY_100\",\\\n",
    "             \"PARALLEL_STRUCTURE_101\",\"TEMP_STRUCTURE_103\",\"HIGHWAY_SYSTEM_104\",\"FEDERAL_LANDS_105\",\\\n",
    "             \"PERCENT_ADT_TRUCK_109\",\"YEAR_OF_FUTURE_ADT_115\",\"SUBMITTED_BY\",\"FED_AGENCY\"], axis=1)\n",
    "\n",
    "#This line will transfer month and year to year value only since month would not be a suitable feature: \n",
    "for i in range (len(ini_df.DATE_OF_INSPECT_090)):\n",
    "    ini_df.DATE_OF_INSPECT_090[i] = int(str(ini_df.DATE_OF_INSPECT_090[i])[-2:])+2000\n",
    "\n",
    "ini_df.YEAR_BUILT_027 = 2019 - ini_df.YEAR_BUILT_027\n",
    "\n",
    "ini_df.DATE_OF_INSPECT_090 = 2019 - ini_df.DATE_OF_INSPECT_090\n",
    "\n",
    "#Filling NAN with zeros\n",
    "ini_df = ini_df.fillna(0)\n",
    "#One-hot encoding: \n",
    "x = pd.get_dummies(ini_df)\n",
    "del x['index']\n",
    "#x = x.values #returns a numpy array\n",
    "min_max_scaler = preprocessing.MinMaxScaler()\n",
    "x = pd.DataFrame(min_max_scaler.fit_transform(x.values), columns=x.columns, index=x.index)"
   ]
  },
  {
   "cell_type": "markdown",
   "metadata": {},
   "source": [
    "## <span style='font-family:\"Times New Roman\"'> <span styel=''>Splitting test and train date: 30 percent would go to test and 70 percent would go to train:"
   ]
  },
  {
   "cell_type": "code",
   "execution_count": 6,
   "metadata": {},
   "outputs": [],
   "source": [
    "X_train, X_test, y_train, y_test = train_test_split(x, y, test_size = 0.3, random_state = 7)"
   ]
  },
  {
   "cell_type": "markdown",
   "metadata": {},
   "source": [
    "## <span style='font-family:\"Times New Roman\"'> <span styel=''>Feature selection using Random Forest: "
   ]
  },
  {
   "cell_type": "code",
   "execution_count": 7,
   "metadata": {},
   "outputs": [
    {
     "data": {
      "text/plain": [
       "SelectFromModel(estimator=RandomForestClassifier())"
      ]
     },
     "execution_count": 7,
     "metadata": {},
     "output_type": "execute_result"
    }
   ],
   "source": [
    "rf_tree = SelectFromModel(RandomForestClassifier(n_estimators = 100))\n",
    "rf_tree.fit(X_train, y_train)"
   ]
  },
  {
   "cell_type": "code",
   "execution_count": 8,
   "metadata": {},
   "outputs": [],
   "source": [
    "selected_features= X_train.columns[(rf_tree.get_support())]"
   ]
  },
  {
   "cell_type": "code",
   "execution_count": 9,
   "metadata": {},
   "outputs": [
    {
     "name": "stdout",
     "output_type": "stream",
     "text": [
      "Number of selected features :\n",
      "38\n"
     ]
    }
   ],
   "source": [
    "print(\"Number of selected features :\")\n",
    "print(len(selected_features))"
   ]
  },
  {
   "cell_type": "code",
   "execution_count": 10,
   "metadata": {},
   "outputs": [
    {
     "name": "stdout",
     "output_type": "stream",
     "text": [
      "Selected features are :\n",
      "Index(['ROUTE_PREFIX_005B', 'KILOPOINT_011', 'DETOUR_KILOS_019',\n",
      "       'MAINTENANCE_021', 'OWNER_022', 'FUNCTIONAL_CLASS_026',\n",
      "       'YEAR_BUILT_027', 'ADT_029', 'APPR_WIDTH_MT_032', 'DEGREES_SKEW_034',\n",
      "       'STRUCTURE_KIND_043A', 'STRUCTURE_TYPE_043B', 'MAIN_UNIT_SPANS_045',\n",
      "       'HORR_CLR_MT_047', 'MAX_SPAN_LEN_MT_048', 'STRUCTURE_LEN_MT_049',\n",
      "       'ROADWAY_WIDTH_MT_051', 'DECK_WIDTH_MT_052', 'VERT_CLR_UND_054B',\n",
      "       'OPERATING_RATING_064', 'INVENTORY_RATING_066', 'APPR_ROAD_EVAL_072',\n",
      "       'WORK_PROPOSED_075A', 'WORK_DONE_BY_075B', 'IMP_LEN_MT_076',\n",
      "       'DATE_OF_INSPECT_090', 'FUTURE_ADT_114', 'LOWEST_RATING', 'DECK_AREA',\n",
      "       'STRUCTURAL_EVAL_067_4', 'STRUCTURAL_EVAL_067_5',\n",
      "       'STRUCTURAL_EVAL_067_6', 'STRUCTURAL_EVAL_067_7',\n",
      "       'STRUCTURAL_EVAL_067_8', 'DECK_PROTECTION_108C_1', 'BRIDGE_CONDITION_F',\n",
      "       'BRIDGE_CONDITION_G', 'BRIDGE_CONDITION_P'],\n",
      "      dtype='object')\n"
     ]
    }
   ],
   "source": [
    "print(\"Selected features are :\")\n",
    "print(selected_features)"
   ]
  },
  {
   "cell_type": "code",
   "execution_count": 11,
   "metadata": {},
   "outputs": [
    {
     "data": {
      "image/png": "[encoded data removed]",
      "text/plain": [
       "<Figure size 864x576 with 1 Axes>"
      ]
     },
     "metadata": {
      "needs_background": "light"
     },
     "output_type": "display_data"
    }
   ],
   "source": [
    "importances = rf_tree.estimator_.feature_importances_\n",
    "indices = np.argsort(importances)[::-1]\n",
    "# X is the train data used to fit the model \n",
    "plt.figure(figsize=(12,8))\n",
    "plt.title(\"First 50 Feature importances\", fontsize=18)\n",
    "plt.bar(range(X_train.shape[1]), importances[indices],\n",
    "       color=\"b\", align=\"center\")\n",
    "plt.xticks(range(50), indices[0:50], rotation='vertical')\n",
    "plt.xlim([-1, 50])\n",
    "plt.show()"
   ]
  }
 ],
 "metadata": {
  "kernelspec": {
   "display_name": "Python 3",
   "language": "python",
   "name": "python3"
  },
  "language_info": {
   "codemirror_mode": {
    "name": "ipython",
    "version": 3
   },
   "file_extension": ".py",
   "mimetype": "text/x-python",
   "name": "python",
   "nbconvert_exporter": "python",
   "pygments_lexer": "ipython3",
   "version": "3.7.9"
  }
 },
 "nbformat": 4,
 "nbformat_minor": 4
}
